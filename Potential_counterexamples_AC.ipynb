{
 "cells": [
  {
   "cell_type": "markdown",
   "metadata": {},
   "source": [
    "## Potential counterexamples of the Andrews-Curtis conjecture"
   ]
  },
  {
   "cell_type": "code",
   "execution_count": 1,
   "metadata": {},
   "outputs": [],
   "source": [
    "# load package from Finite_Spaces\n",
    "!sage --preparse Finite_Spaces/Homotopy.sage\n",
    "!mv Finite_Spaces/Homotopy.sage.py Finite_Spaces/Homotopy.py\n",
    "!sage --preparse Finite_Spaces/Deformations.sage\n",
    "!mv Finite_Spaces/Deformations.sage.py Finite_Spaces/Deformations.py\n",
    "!sage --preparse Finite_Spaces/Presentations.sage\n",
    "!mv Finite_Spaces/Presentations.sage.py Finite_Spaces/Presentations.py\n",
    "!sage --preparse Finite_Spaces/Morse.sage\n",
    "!mv Finite_Spaces/Morse.sage.py Finite_Spaces/Morse.py\n",
    "!sage --preparse Finite_Spaces/Colorings.sage\n",
    "!mv Finite_Spaces/Colorings.sage.py Finite_Spaces/Colorings.py\n",
    "\n",
    "from Finite_Spaces.Presentations import *\n",
    "from Finite_Spaces.Morse         import *"
   ]
  },
  {
   "cell_type": "markdown",
   "metadata": {},
   "source": [
    "We next prove that the following potential counterexamples of the Andrews-Curtis conjecture do satisfy the conjecture."
   ]
  },
  {
   "cell_type": "markdown",
   "metadata": {},
   "source": [
    "### 1. Akbulut & Kirby"
   ]
  },
  {
   "cell_type": "markdown",
   "metadata": {},
   "source": [
    "$$\n",
    "\\mathcal{A K}_2=\\langle x, y~|~ xyx = yxy, ~x^2 = y^{3}\\rangle\n",
    "$$ "
   ]
  },
  {
   "cell_type": "code",
   "execution_count": 3,
   "metadata": {},
   "outputs": [
    {
     "name": "stdout",
     "output_type": "stream",
     "text": [
      "Finitely presented group < x, y | x^2*y^-3, x*y*x*y^-1*x^-1*y^-1 >\n"
     ]
    }
   ],
   "source": [
    "# list of generators\n",
    "gens = ['x', 'y']\n",
    "\n",
    "# list of relators: each relator is a list of tuples of (generator, exponent)\n",
    "rels = [[('x',2), ('y',-3)], [('x',1), ('y',1), ('x',1), ('y',-1), ('x', -1), ('y', -1)]]\n",
    "\n",
    "# group presentation\n",
    "G = group_presentation(gens, rels)\n",
    "print(G)"
   ]
  },
  {
   "cell_type": "code",
   "execution_count": 4,
   "metadata": {},
   "outputs": [
    {
     "data": {
      "text/plain": [
       "Finitely presented group < x, y | x^2*y^-3, x*y*x*y^-1*x^-1*y^-1 >"
      ]
     },
     "execution_count": 4,
     "metadata": {},
     "output_type": "execute_result"
    }
   ],
   "source": [
    "# greedy simplification of AK2\n",
    "G.simplified()"
   ]
  },
  {
   "cell_type": "code",
   "execution_count": 5,
   "metadata": {},
   "outputs": [],
   "source": [
    "# compute the poset associated to the presentation, that is, the face poset of the barycentric subdivision of the \n",
    "# standard complex associated to the original presentation\n",
    "X = presentation_poset(gens, rels)"
   ]
  },
  {
   "cell_type": "code",
   "execution_count": 6,
   "metadata": {},
   "outputs": [
    {
     "data": {
      "text/plain": [
       "53"
      ]
     },
     "execution_count": 6,
     "metadata": {},
     "output_type": "execute_result"
    }
   ],
   "source": [
    "len(X)"
   ]
  },
  {
   "cell_type": "code",
   "execution_count": null,
   "metadata": {},
   "outputs": [],
   "source": [
    "X.show()"
   ]
  },
  {
   "cell_type": "code",
   "execution_count": 15,
   "metadata": {},
   "outputs": [
    {
     "name": "stdout",
     "output_type": "stream",
     "text": [
      "Original Presentation:\n",
      " Finitely presented group < x, y | x^2*y^-3, x*y*x*y^-1*x^-1*y^-1 >\n",
      "Reduction of Original presentation:\n",
      " Finitely presented group < x, y | x^2*y^-3, x*y*x*y^-1*x^-1*y^-1 >\n",
      "Morse Presentation:\n",
      " Finitely presented group < a0, a1, a2 | a1*a2^-1*a0*a1*a0^-1*a2*a1^-2*a0^-1*a2, a1*a2*a1^-1*a0^-1*a2*a1, a1^-1*a0^-1*a1 >\n",
      "Reduction of the Morse presentation:\n",
      " Finitely presented group <  |  >\n",
      "CPU times: user 63 ms, sys: 0 ns, total: 63 ms\n",
      "Wall time: 63.2 ms\n"
     ]
    }
   ],
   "source": [
    "%%time\n",
    "\n",
    "l = len(G.simplified().generators())\n",
    "\n",
    "while l>1:\n",
    "    M  = spanning_matching(X) #generate a random acyclic matching with a single critical 0-cell\n",
    "    Q  = Morse_presentation(gens, rels, M)\n",
    "    PP = Q.simplified()\n",
    "    l = len(PP.generators())\n",
    "print('Original Presentation:\\n', G)\n",
    "print('Reduction of Original presentation:\\n', G.simplified())\n",
    "print('Morse Presentation:\\n', Q)\n",
    "print('Reduction of the Morse presentation:\\n', PP)"
   ]
  },
  {
   "cell_type": "markdown",
   "metadata": {},
   "source": [
    "### 2. Miller III & Schupp"
   ]
  },
  {
   "cell_type": "markdown",
   "metadata": {},
   "source": [
    "$$\n",
    "\\mathcal{M S}_3 = \\langle x,y~|~x^{-1}y^3 x = y^4, x = y^{-1}xyx^{-1}\\rangle\n",
    "$$"
   ]
  },
  {
   "cell_type": "code",
   "execution_count": 16,
   "metadata": {},
   "outputs": [
    {
     "name": "stdout",
     "output_type": "stream",
     "text": [
      "Finitely presented group < x, y | x^-1*y^3*x*y^-4, y^-1*x*y*x^-2 >\n",
      "Finitely presented group < x, y | y^-1*x*y*x^-2, y^2*x*y^-3*x^-2 >\n"
     ]
    }
   ],
   "source": [
    "gens = ['x', 'y']\n",
    "\n",
    "n=3\n",
    "rels = [[('x',-1), ('y',n), ('x',1), ('y', -(n+1))], [('y',-1), ('x',1), ('y',1), ('x', -2)]]\n",
    "\n",
    "# group presentation\n",
    "G = group_presentation(gens, rels)\n",
    "print(G)\n",
    "print(G.simplified())"
   ]
  },
  {
   "cell_type": "code",
   "execution_count": 17,
   "metadata": {},
   "outputs": [
    {
     "data": {
      "text/plain": [
       "65"
      ]
     },
     "execution_count": 17,
     "metadata": {},
     "output_type": "execute_result"
    }
   ],
   "source": [
    "X = presentation_poset(gens, rels)\n",
    "len(X)"
   ]
  },
  {
   "cell_type": "code",
   "execution_count": 18,
   "metadata": {},
   "outputs": [
    {
     "name": "stdout",
     "output_type": "stream",
     "text": [
      "Original Presentation:\n",
      " Finitely presented group < x, y | x^-1*y^3*x*y^-4, y^-1*x*y*x^-2 >\n",
      "Reduction of Original presentation:\n",
      " Finitely presented group < x, y | y^-1*x*y*x^-2, y^2*x*y^-3*x^-2 >\n",
      "Morse Presentation:\n",
      " Finitely presented group < a0, a1, a2, a3, a4 | a4^-1*a0^-1*a4*a3*a1*a3^-1*a4^-1*a0*a4*a3, a4^-1*a0*a4*a3^-1*a2*a4^-1*a0^-1*a4*a3, (a4^-1*a0^-1*a4*a3)^2*a4^-1, a3^-1*a4^-1*a0*a4*a1^-1*a0^-1*a4*a3^-1*a4^-1*a0*a4, a3^-1*a2^-1 >\n",
      "Reduction of the Morse presentation:\n",
      " Finitely presented group <  |  >\n",
      "CPU times: user 3.73 s, sys: 0 ns, total: 3.73 s\n",
      "Wall time: 3.72 s\n"
     ]
    }
   ],
   "source": [
    "%%time\n",
    "\n",
    "l = len(G.simplified().generators())\n",
    "\n",
    "while l>1:\n",
    "    M  = spanning_matching(X) #generate a random acyclic matching with a single critical 0-cell\n",
    "    Q  = Morse_presentation(gens, rels, M)\n",
    "    PP = Q.simplified()\n",
    "    l = len(PP.generators())\n",
    "print('Original Presentation:\\n', G)\n",
    "print('Reduction of Original presentation:\\n', G.simplified())\n",
    "print('Morse Presentation:\\n', Q)\n",
    "print('Reduction of the Morse presentation:\\n', PP)"
   ]
  },
  {
   "cell_type": "markdown",
   "metadata": {},
   "source": [
    "### 3. Gordon"
   ]
  },
  {
   "cell_type": "markdown",
   "metadata": {},
   "source": [
    "$$\\mathcal{G}_q =\\langle x,y~|~x=x^{-1}y^{-1}x y, y = y^{-1}x^q y x^{-q}\\rangle$$"
   ]
  },
  {
   "cell_type": "code",
   "execution_count": 2,
   "metadata": {},
   "outputs": [],
   "source": [
    "gens = ['x', 'y']\n",
    "def rels_Gordon(q):\n",
    "    rels = [[('x', -1)] + commutator([('x', -1)], [('y', -1)]), [('y', -1)] + commutator([('x', -q)], [('y', 1)])]\n",
    "    return rels"
   ]
  },
  {
   "cell_type": "code",
   "execution_count": 21,
   "metadata": {},
   "outputs": [
    {
     "name": "stdout",
     "output_type": "stream",
     "text": [
      "Finitely presented group < x, y | x^-2*y^-1*x*y, y^-1*x^-5*y*x^5*y^-1 >\n",
      "Finitely presented group < x, y | x^-2*y^-1*x*y, y^-1*x^-2*y*x^-1*y^-1 >\n"
     ]
    }
   ],
   "source": [
    "q=5\n",
    "rels = rels_Gordon(q)\n",
    "G = group_presentation(gens, rels)\n",
    "print(G)\n",
    "print(G.simplified())"
   ]
  },
  {
   "cell_type": "code",
   "execution_count": 22,
   "metadata": {},
   "outputs": [
    {
     "data": {
      "text/plain": [
       "81"
      ]
     },
     "execution_count": 22,
     "metadata": {},
     "output_type": "execute_result"
    }
   ],
   "source": [
    "X = presentation_poset(gens, rels)\n",
    "len(X)"
   ]
  },
  {
   "cell_type": "code",
   "execution_count": 23,
   "metadata": {},
   "outputs": [
    {
     "name": "stdout",
     "output_type": "stream",
     "text": [
      "Original Presentation:\n",
      " Finitely presented group < x, y | x^-2*y^-1*x*y, y^-1*x^-5*y*x^5*y^-1 >\n",
      "Reduction of Original presentation:\n",
      " Finitely presented group < x, y | x^-2*y^-1*x*y, y^-1*x^-2*y*x^-1*y^-1 >\n",
      "Morse Presentation:\n",
      " Finitely presented group < a0, a1, a2, a3, a4, a5, a6, a7, a8 | a8^-1*a3*a1^-1*a5*a4^-1, a8^-1*a3*(a5^-1*a1)^2*a5^-1*a0*a3*a1^-1*a5*a3^-1*a8, a1^-1*a5*a3^-1*a8*a2*(a1^-1*a5)^2, a0^-1*a4*a1^-1*a5*a2^-1*a6*a8^-1*a3*a5^-1*a1*a3^-1, a8^-1*a3*(a5^-1*a1)^2*a3^-1*a0^-1*a4*a1^-1*a5*a3^-1*a8*a6^-1*a7, a3^-1*a8*a7^-1, a5^-1*a1^2, a1^-1*a5*a3^-1, a3*a1^-1*a5*a0^-1*a4*a5^-1*a1*a4^-1*a0 >\n",
      "Reduction of the Morse presentation:\n",
      " Finitely presented group <  |  >\n",
      "CPU times: user 296 ms, sys: 0 ns, total: 296 ms\n",
      "Wall time: 307 ms\n"
     ]
    }
   ],
   "source": [
    "%%time\n",
    "\n",
    "l = len(G.simplified().generators())\n",
    "\n",
    "while l>1:\n",
    "    M  = spanning_matching(X) #generate a random acyclic matching with a single critical 0-cell\n",
    "    Q  = Morse_presentation(gens, rels, M)\n",
    "    PP = Q.simplified()\n",
    "    l = len(PP.generators())\n",
    "print('Original Presentation:\\n', G)\n",
    "print('Reduction of Original presentation:\\n', G.simplified())\n",
    "print('Morse Presentation:\\n', Q)\n",
    "print('Reduction of the Morse presentation:\\n', PP)"
   ]
  },
  {
   "cell_type": "code",
   "execution_count": 18,
   "metadata": {},
   "outputs": [
    {
     "name": "stdout",
     "output_type": "stream",
     "text": [
      "Finitely presented group < x, y | x^-2*y^-1*x*y, y^-1*x^-99*y*x^99*y^-1 >\n",
      "Finitely presented group < x, y | x^-2*y^-1*x*y, y^-1*x^-49*y*x^-1*y^-1 >\n"
     ]
    }
   ],
   "source": [
    "q=99\n",
    "rels = rels_Gordon(q)\n",
    "G = group_presentation(gens, rels)\n",
    "print(G)\n",
    "print(G.simplified())"
   ]
  },
  {
   "cell_type": "code",
   "execution_count": 19,
   "metadata": {},
   "outputs": [
    {
     "data": {
      "text/plain": [
       "833"
      ]
     },
     "execution_count": 19,
     "metadata": {},
     "output_type": "execute_result"
    }
   ],
   "source": [
    "# Associated poset\n",
    "X = presentation_poset(gens, rels)\n",
    "len(X)"
   ]
  },
  {
   "cell_type": "code",
   "execution_count": 20,
   "metadata": {},
   "outputs": [
    {
     "name": "stdout",
     "output_type": "stream",
     "text": [
      "206\n"
     ]
    }
   ],
   "source": [
    "# Total relator length\n",
    "total_length_relator = 5 + 3 + 2*q\n",
    "print(total_length_relator)"
   ]
  },
  {
   "cell_type": "code",
   "execution_count": 21,
   "metadata": {},
   "outputs": [
    {
     "name": "stdout",
     "output_type": "stream",
     "text": [
      "Original Presentation:\n",
      " Finitely presented group < x, y | x^-2*y^-1*x*y, y^-1*x^-99*y*x^99*y^-1 >\n",
      "Reduction of Original presentation:\n",
      " Finitely presented group < x, y | x^-2*y^-1*x*y, y^-1*x^-49*y*x^-1*y^-1 >\n",
      "Morse Presentation:\n",
      " Finitely presented group < a0, a1, a2, a3, a4, a5, a6, a7, a8, a9, a10, a11, a12, a13, a14, a15, a16, a17, a18, a19, a20, a21, a22, a23, a24, a25, a26, a27, a28, a29, a30, a31, a32, a33, a34, a35, a36, a37, a38, a39, a40, a41, a42, a43, a44, a45, a46, a47, a48, a49, a50, a51, a52, a53, a54, a55, a56, a57, a58, a59, a60, a61, a62, a63, a64, a65, a66, a67, a68, a69, a70, a71, a72, a73, a74, a75 | (a48^-1*a15*a1^-1*a51)^2*a72^-1*a10*a15^-1*a48, a48^-1*a15*a1^-1*a51*a71^-1*a30*a48^-1*a15*a1^-1*a51, (a48^-1*a15*a1^-1*a51)^4*a48^-1*a15*a21^-1*a14*a1^-1*a51, (a15^-1*a48*a51^-1*a1)^2*a15^-1*a48*a46^-1*a57*a51^-1*a1, a48^-1*a15*a1^-1*a51*a70^-1*a9*a15^-1*a48, a15^-1*a48*a51^-1*a1*a15^-1*a48*a34^-1*a46*a51^-1*a1, (a15^-1*a48*a51^-1*a1)^2*a15^-1*a48*a44^-1*a50*a48^-1*a15, (a48^-1*a15*a1^-1*a51)^3*a48^-1*a15*a23^-1*a3*(a1^-1*a51*a48^-1*a15)^2*a1^-1*a51, a15^-1*a48*a51^-1*a1*a11^-1*a26, a48^-1*a15*a1^-1*a51*a30^-1*a19*a15^-1*a48, (a15^-1*a48*a51^-1*a1)^2*a15^-1*a48*a38^-1*a15, a48^-1*a15*a1^-1*a51*a48^-1*a15*a1^-1*a6*a15^-1*a48, a15^-1*a48*a51^-1*a1*a15^-1*a47*a48^-1*a15, a15^-1*a48*a51^-1*a1*a15^-1*a48*a38*a48^-1*a15, a48^-1*a15*a1^-1*a51*a42^-1*a35*(a48^-1*a15*a1^-1*a51)^3, a15^-1*a48*a51^-1*a1*a28^-1*a31*a51^-1*a1, (a48^-1*a15*a1^-1*a51)^2*a73^-1*a0, (a15^-1*a48*a51^-1*a1)^2*a15^-1*a48*a50^-1*a65*a51^-1*a1*a15^-1*a48*a51^-1*a1, a48^-1*a15*a1^-1*a51*a75^-1*a68*(a48^-1*a15*a1^-1*a51)^2, (a15^-1*a48*a51^-1*a1)^2*a27^-1*a22, (a15^-1*a48*a51^-1*a1)^2*a15^-1*a48*a62^-1*a28*(a15^-1*a48*a51^-1*a1)^3, a15^-1*a48*a51^-1*a1*a16^-1*a49*a48^-1*a15, a15^-1*a48*a51^-1*a1*a15^-1*a48*a55^-1*a41*a48^-1*a15, (a15^-1*a48*a51^-1*a1)^4*a15^-1*a48*a54^-1*a2*a15^-1*a48*a51^-1*a1, a48^-1*a15*a1^-1*a51*a33^-1*a60, a48^-1*a15*a1^-1*a51*a48^-1*a15*a10^-1*a63, a48^-1*a15*a1^-1*a51*a63^-1*a70*a48^-1*a15*a1^-1*a51, a0^-1*a15^-1*a48*a51^-1*a1*a15^-1*a48*a39^-1*a5*(a15^-1*a48*a51^-1*a1)^4*a15^-1*a48*a0^-1*a15^-1*a48*a51^-1*a1*a15^-1*a48, a15^-1*a48*a51^-1*a1*a22^-1*a12*a15^-1*a48*a51^-1*a1, a48^-1*a15*a1^-1*a51*a48^-1*a15*a6^-1*a18*a15^-1*a48, (a48^-1*a15*a1^-1*a51)^2*a48^-1*a15*a18^-1*a8*a15^-1*a48, a48^-1*a15*a1^-1*a51*a56^-1*a24*a15^-1*a48, a0^-1*a15^-1*a48*a51^-1*a1*a73, a15^-1*a48*a51^-1*a1*a13^-1*a44*a48^-1*a15, a15^-1*a48*a51^-1*a1*a5^-1*a11*(a15^-1*a48*a51^-1*a1)^2, a51^-1*a1*a15^-1*a48*a57^-1*a7*a15^-1*a48*a51^-1*a1*a15^-1*a48, (a1^-1*a51*a48^-1*a15)^2*a24^-1*a23*(a1^-1*a51*a48^-1*a15)^2, a1^-1*a51*a48^-1*a15*a1^-1*a51*a58^-1*a37*a48^-1*a15*a1^-1*a51*a48^-1*a15, a51^-1*a1*a15^-1*a48*a31^-1*a45*(a51^-1*a1*a15^-1*a48)^4, a51^-1*a1*a15^-1*a48*a40^-1*a62*a51^-1*a1*a15^-1*a48, a1^-1*a51*a48^-1*a15*a9^-1*a56*a48^-1*a15*a1^-1*a51*a48^-1*a15, a51^-1*a1*a2^-1*a55*a51^-1*a1*a15^-1*a48, (a1^-1*a51*a48^-1*a15)^4*a20^-1*a33*a48^-1*a15*a1^-1*a51*a48^-1*a15, a1^-1*a51*a60^-1*a53*(a48^-1*a15*a1^-1*a51)^2*a48^-1*a15, a51^-1*a1*a15^-1*a48*a36^-1*a69*(a51^-1*a1*a15^-1*a48)^2, (a51^-1*a1*a15^-1*a48)^3*a49^-1*a13*a15^-1*a48*a51^-1*a1*a15^-1*a48, a15^-1*a48*a53^-1*a75*a48^-1*a15*a1^-1*a51*a48^-1*a15, (a51^-1*a1*a15^-1*a48)^3*a59^-1*a32*a51^-1*a1*a15^-1*a48, a1^-1*a51*a68^-1*a71*(a48^-1*a15*a1^-1*a51)^2*a48^-1*a15, a51^-1*a1*a15^-1*a48*a51^-1*a1*a17^-1*a34, a51^-1*a1*a7^-1*(a15^-1*a48*a51^-1*a1)^4*a15^-1*a48, a1^-1*a51*a48^-1*a15*a1^-1*a51*a35^-1*a21*(a1^-1*a51*a48^-1*a15)^2, a1^-1*a51*a48^-1*a15*a8^-1*a64*a48^-1*a15*a1^-1*a51*a48^-1*a15, a15^-1*a48*a37^-1*a72*(a48^-1*a15*a1^-1*a51)^4*a48^-1*a15, (a1^-1*a51*a48^-1*a15)^2*a19^-1*a39*a48^-1*a15*a1^-1*a51*a48^-1*a15, a1^-1*a51*a48^-1*a15*a3^-1*a61*a48^-1*a15*a1^-1*a51*a48^-1*a15, a1^-1*a51*a66^-1*a42*a48^-1*a15*a1^-1*a51*a48^-1*a15, a51^-1*a1*a15^-1*a48*a47^-1*a27*a15^-1*a48*a51^-1*a1*a15^-1*a48, a48^-1*a15*a26^-1*a17*(a15^-1*a48*a51^-1*a1)^2*a15^-1*a48, a48^-1*a15*a29^-1*a51^-1*a1*a15^-1*a48, (a51^-1*a1*a15^-1*a48)^3*a67^-1*a29*a15^-1*a48*a51^-1*a1*a15^-1*a48, (a51^-1*a1*a15^-1*a48)^2*a41^-1*a59*a51^-1*a1*a15^-1*a48, a51^-1*a1*a54, a1^-1*a51*a48^-1*a15*a1^-1*a51*a43^-1*a52*(a48^-1*a15*a1^-1*a51)^2*a48^-1*a15, a1^-1*a51*a48^-1*a15*a4^-1*a58*a48^-1*a15*a1^-1*a51*a48^-1*a15, a1^-1*a51*a48^-1*a15*a1^-1*a51*a61^-1*a74*a48^-1*a15*a1^-1*a51*a48^-1*a15, a1^-1*a51*a48^-1*a15*a1^-1*a51*a64^-1*a4*(a1^-1*a51*a48^-1*a15)^2, (a1^-1*a51*a48^-1*a15)^2*a14^-1*(a51*a48^-1*a15*a1^-1)^7*a51*a48^-1*a15, a51^-1*a1*a15^-1*a48*a51^-1*a1*a12^-1*a36*(a51^-1*a1*a15^-1*a48)^2, (a51^-1*a1*a15^-1*a48)^2*a45^-1*a16*(a15^-1*a48*a51^-1*a1)^3*a15^-1*a48, (a15^-1*a48*a51^-1*a1)^3*a15^-1*a48*a32^-1*a40*a48^-1*a15, a51^-1*a1*a15^-1*a48*a65^-1*a67*a51^-1*a1*a15^-1*a48, a48^-1*a15*a1^-1*a51*a48^-1*a15*a25^-1*a66*(a48^-1*a15*a1^-1*a51)^2, a51^-1*a1*a15^-1*a48*a69^-1*a43*a48^-1*a15*a1^-1*a51*a48^-1*a15*a0, a48^-1*a15*a1^-1*a51*a52^-1*a25*a15^-1*a48, a15^-1*a48*a74^-1*a20*a1^-1*a51*a48^-1*a15 >\n",
      "Reduction of the Morse presentation:\n",
      " Finitely presented group <  |  >\n",
      "CPU times: user 5min 14s, sys: 0 ns, total: 5min 14s\n",
      "Wall time: 5min 14s\n"
     ]
    }
   ],
   "source": [
    "%%time\n",
    "\n",
    "l = len(G.simplified().generators())\n",
    "\n",
    "while l>1:\n",
    "    M  = spanning_matching(X) #generate a random acyclic matching with a single critical 0-cell\n",
    "    Q  = Morse_presentation(gens, rels, M)\n",
    "    PP = Q.simplified()\n",
    "    l = len(PP.generators())\n",
    "print('Original Presentation:\\n', G)\n",
    "print('Reduction of Original presentation:\\n', G.simplified())\n",
    "print('Morse Presentation:\\n', Q)\n",
    "print('Reduction of the Morse presentation:\\n', PP)"
   ]
  },
  {
   "cell_type": "markdown",
   "metadata": {},
   "source": [
    "### 4. Barmak"
   ]
  },
  {
   "cell_type": "markdown",
   "metadata": {},
   "source": [
    "$\\mathcal{B}=\\langle x,y~|~[x,y],1\\rangle$\n",
    "\n",
    "$\\mathcal{B'}=\\langle x,y~|~[x,[x,y^{-1}]]^2y[y^{-1},x]y^{-1},[x,[[y^{-1},x],x]]\\rangle$"
   ]
  },
  {
   "cell_type": "code",
   "execution_count": 14,
   "metadata": {},
   "outputs": [],
   "source": [
    "gens = ['x', 'y']\n",
    "\n",
    "r1 = commutator([('x',1)], commutator([('x',1)],[('y',-1)])) + commutator([('x',1)], commutator([('x',1)],[('y',-1)])) + conj(commutator([('y',-1)],[('x',1)]), [('y',1)])\n",
    "r2 = commutator([('x',1)],commutator(commutator([('y',-1)],[('x',1)]), [('x',1)]))\n",
    "\n",
    "rels = [r1,r2]"
   ]
  },
  {
   "cell_type": "code",
   "execution_count": 15,
   "metadata": {},
   "outputs": [
    {
     "name": "stdout",
     "output_type": "stream",
     "text": [
      "Finitely presented group < x, y | x*(x*y^-1*x^-1*y*x^-1*y^-1*x*y)^2*y*x^-1*y^-1, x*y^-1*x*y*x*y^-1*x^-1*y*x^-1*y^-1*x*y*x^-1*y^-1*x^-1*y >\n",
      "Finitely presented group < x, y | x^3*y^-1*x^-1*y*x^-2*y^-1*x*y^2*x^-1*y^-1, x*y^-1*x*y*x*y^-1*x^-1*y*x^-1*y^-1*x*y*x^-1*y^-1*x^-1*y >\n"
     ]
    }
   ],
   "source": [
    "G = group_presentation(gens, rels)\n",
    "print(G)\n",
    "print(G.simplified())"
   ]
  },
  {
   "cell_type": "code",
   "execution_count": 16,
   "metadata": {},
   "outputs": [
    {
     "data": {
      "text/plain": [
       "201"
      ]
     },
     "execution_count": 16,
     "metadata": {},
     "output_type": "execute_result"
    }
   ],
   "source": [
    "X = presentation_poset(gens, rels)\n",
    "len(X)"
   ]
  },
  {
   "cell_type": "code",
   "execution_count": 10,
   "metadata": {},
   "outputs": [
    {
     "name": "stdout",
     "output_type": "stream",
     "text": [
      "Original Presentation:\n",
      " Finitely presented group < x, y | x*(x*y^-1*x^-1*y*x^-1*y^-1*x*y)^2*y*x^-1*y^-1, x*y^-1*x*y*x*y^-1*x^-1*y*x^-1*y^-1*x*y*x^-1*y^-1*x^-1*y >\n",
      "Reduction of Original presentation:\n",
      " Finitely presented group < x, y | x^3*y^-1*x^-1*y*x^-2*y^-1*x*y^2*x^-1*y^-1, x*y^-1*x*y*x*y^-1*x^-1*y*x^-1*y^-1*x*y*x^-1*y^-1*x^-1*y >\n",
      "Morse Presentation:\n",
      " Finitely presented group < a0, a1, a2, a3, a4, a5, a6, a7, a8, a9, a10, a11, a12, a13, a14, a15, a16, a17, a18, a19, a20, a21, a22 | a11^-1*a18*a19^-1*a8, a3^-1*a9*a6^-1*a22*a17^-1*a5*a9^-1*a3, a18^-1*a11*a5^-1*a17*a14^-1*a18, a18^-1*a11*a5^-1*a17*a15^-1*a21*a17^-1*a5*a15, a1^-1*a0, a11^-1*a18*a17^-1*a5*a15*a18^-1*a11*a8^-1*a20*a17^-1*a5, a15^-1*a5^-1*a17*a18^-1*a11*a15*a13^-1*a6*a11^-1*a18, a11^-1*a18*a17^-1*a5*a15*a18^-1*a11*a9^-1*a3*a2^-1*a10, a11^-1*a18*a16^-1, a15^-1*a5^-1*a17*a18^-1*a11*a9^-1*a3*a16, a11^-1*a18*a17^-1*a5*a15*a17^-1*a5*a9^-1*a3*a0^-1*a18^-1*a11, a11^-1*a18*a17^-1*a5*a15*a18^-1*a11*a7^-1*a13*a17^-1*a5, a11^-1*a18*a17^-1*a5*a15*a18^-1*a11*a9^-1*a3*a4^-1*a5, a17^-1*a5*a15*a17^-1*a3^-1*a9*a5^-1*a17, (a15^-1*a5^-1*a17)^2*a18^-1*a2*a3^-1*a9*a5^-1*a17, a15^-1*a5^-1*a17*a18^-1*a11*a5^-1*a17*a15^-1*a5^-1*a17*a20^-1*a7*a11^-1*a18*a17^-1*a5*a15, a11^-1*a18*a17^-1*a5*a15*a17^-1*a5*a11^-1*a18*a21^-1*a14*a18^-1*a11, a11^-1*a18*a22^-1*a15^-1*a5^-1*a17*a18^-1*a11, a17^-1*a5*a11^-1*a18*a12*a11^-1*a18, a3^-1*a9*a15*a17^-1*a5*a11^-1*a18*a15^-1*a5^-1*a17*a18^-1*a11*a9^-1*a19*a18^-1*a11*a9^-1*a3, a3^-1*a9*a5^-1*a17*a15^-1*a5^-1*a17*a18^-1*a11*a12^-1*a4, a3^-1*a9*a5^-1*a17*a3, a17^-1*a5*a10^-1*a1*a3^-1*a9*a5^-1*a17*a15^-1*a5^-1*a17 >\n",
      "Reduction of the Morse presentation:\n",
      " Finitely presented group < a9, a22 | a9*a22^-1*a9^-1*a22 >\n",
      "CPU times: user 3.14 s, sys: 15 ms, total: 3.15 s\n",
      "Wall time: 3.15 s\n"
     ]
    }
   ],
   "source": [
    "%%time\n",
    "\n",
    "l = len(G.simplified().relations())\n",
    "\n",
    "while l>1:\n",
    "    M  = spanning_matching(X) #generate a random acyclic matching with a single critical 0-cell\n",
    "    Q  = Morse_presentation(gens, rels, M)\n",
    "    PP = Q.simplified()\n",
    "    l = len(PP.relations())\n",
    "    \n",
    "print('Original Presentation:\\n', G)\n",
    "print('Reduction of Original presentation:\\n', G.simplified())\n",
    "print('Morse Presentation:\\n', Q)\n",
    "print('Reduction of the Morse presentation:\\n', PP)"
   ]
  }
 ],
 "metadata": {
  "kernelspec": {
   "display_name": "SageMath 9.2",
   "language": "sage",
   "name": "sagemath"
  },
  "language_info": {
   "codemirror_mode": {
    "name": "ipython",
    "version": 3
   },
   "file_extension": ".py",
   "mimetype": "text/x-python",
   "name": "python",
   "nbconvert_exporter": "python",
   "pygments_lexer": "ipython3",
   "version": "3.7.7"
  }
 },
 "nbformat": 4,
 "nbformat_minor": 2
}
